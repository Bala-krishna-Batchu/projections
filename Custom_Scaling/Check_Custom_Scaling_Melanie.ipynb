{
 "cells": [
  {
   "cell_type": "markdown",
   "id": "82c268e3-fbd2-4b7c-91e9-c0b54d7042aa",
   "metadata": {},
   "source": [
    "Check custom scaling outputs\n",
    "============================"
   ]
  },
  {
   "cell_type": "code",
   "execution_count": 26,
   "id": "45ef0883-4d2d-4c91-8aab-5d64eab80f3f",
   "metadata": {},
   "outputs": [],
   "source": [
    "import numpy as np\n",
    "import pandas as pd\n",
    "import matplotlib.pyplot as plt\n",
    "import BQ\n",
    "import util_funcs as uf\n",
    "from google.cloud import bigquery"
   ]
  },
  {
   "cell_type": "code",
   "execution_count": 27,
   "id": "1e34337b-b16b-491f-b539-9b55c227693b",
   "metadata": {},
   "outputs": [],
   "source": [
    "output_folder = 'Outputs/'\n",
    "output_prices = pd.read_csv(output_folder+'Price_Changes_Scaling_August_02.csv', dtype={'GPI': str, 'NDC': str})"
   ]
  },
  {
   "cell_type": "code",
   "execution_count": 28,
   "id": "63e27894-56cb-48ca-8371-cd91fd7e656d",
   "metadata": {},
   "outputs": [],
   "source": [
    "customer_id_list = ['2701']"
   ]
  },
  {
   "cell_type": "code",
   "execution_count": 29,
   "id": "85a88433-c6e6-4a45-a0b0-10a6a7c397ce",
   "metadata": {},
   "outputs": [],
   "source": [
    "desired_r30 = {'2701': 1-0.24,\n",
    "              }\n",
    "desired_r90 = {'2701': 1-0.24,\n",
    "              }\n",
    "desired_mail = {'2701': 1-0.24,\n",
    "               }"
   ]
  },
  {
   "cell_type": "code",
   "execution_count": 30,
   "id": "4d111c78-7e7b-40e4-bc2c-17ac47ac990e",
   "metadata": {},
   "outputs": [],
   "source": [
    "bqclient = bigquery.Client()\n",
    "raw_prices = bqclient.query(\n",
    "    f\"\"\"select customer_id, chnl_ind, maclist.* from `anbc-prod.fdl_gdp_ae_ds_pro_lp_share_ent_prod.mac_list` maclist\n",
    "        join `anbc-prod.fdl_gdp_ae_ds_pro_lp_share_ent_prod.vcml_reference` vcml_ref on vcml_ref.vcml_id=maclist.mac\n",
    "        where customer_id in (\"{'\", \"'.join(customer_id_list)}\")\n",
    "     \"\"\"\n",
    ").to_dataframe()"
   ]
  },
  {
   "cell_type": "code",
   "execution_count": 31,
   "id": "3943094f-3930-4e0e-96b2-78ac9f5a59ad",
   "metadata": {},
   "outputs": [
    {
     "data": {
      "text/html": [
       "<div>\n",
       "<style scoped>\n",
       "    .dataframe tbody tr th:only-of-type {\n",
       "        vertical-align: middle;\n",
       "    }\n",
       "\n",
       "    .dataframe tbody tr th {\n",
       "        vertical-align: top;\n",
       "    }\n",
       "\n",
       "    .dataframe thead th {\n",
       "        text-align: right;\n",
       "    }\n",
       "</style>\n",
       "<table border=\"1\" class=\"dataframe\">\n",
       "  <thead>\n",
       "    <tr style=\"text-align: right;\">\n",
       "      <th></th>\n",
       "      <th>customer_id</th>\n",
       "      <th>chnl_ind</th>\n",
       "      <th>MAC</th>\n",
       "      <th>GPI</th>\n",
       "      <th>NDC</th>\n",
       "      <th>PRICE</th>\n",
       "      <th>GPI_NDC</th>\n",
       "      <th>MAC_LIST</th>\n",
       "    </tr>\n",
       "  </thead>\n",
       "  <tbody>\n",
       "    <tr>\n",
       "      <th>0</th>\n",
       "      <td>2701</td>\n",
       "      <td>M30</td>\n",
       "      <td>MAC27012</td>\n",
       "      <td>44201010103410</td>\n",
       "      <td>72572001401</td>\n",
       "      <td>6.2830</td>\n",
       "      <td>44201010103410_72572001401</td>\n",
       "      <td>27012</td>\n",
       "    </tr>\n",
       "    <tr>\n",
       "      <th>1</th>\n",
       "      <td>2701</td>\n",
       "      <td>M30</td>\n",
       "      <td>MAC27012</td>\n",
       "      <td>49270060006530</td>\n",
       "      <td>***********</td>\n",
       "      <td>0.1964</td>\n",
       "      <td>49270060006530_***********</td>\n",
       "      <td>27012</td>\n",
       "    </tr>\n",
       "    <tr>\n",
       "      <th>2</th>\n",
       "      <td>2701</td>\n",
       "      <td>M30</td>\n",
       "      <td>MAC27012</td>\n",
       "      <td>86802320001820</td>\n",
       "      <td>***********</td>\n",
       "      <td>29.3155</td>\n",
       "      <td>86802320001820_***********</td>\n",
       "      <td>27012</td>\n",
       "    </tr>\n",
       "    <tr>\n",
       "      <th>3</th>\n",
       "      <td>2701</td>\n",
       "      <td>M30</td>\n",
       "      <td>MAC27012</td>\n",
       "      <td>55100018103720</td>\n",
       "      <td>***********</td>\n",
       "      <td>2.2444</td>\n",
       "      <td>55100018103720_***********</td>\n",
       "      <td>27012</td>\n",
       "    </tr>\n",
       "    <tr>\n",
       "      <th>4</th>\n",
       "      <td>2701</td>\n",
       "      <td>M30</td>\n",
       "      <td>MAC27012</td>\n",
       "      <td>43993003210420</td>\n",
       "      <td>***********</td>\n",
       "      <td>0.4099</td>\n",
       "      <td>43993003210420_***********</td>\n",
       "      <td>27012</td>\n",
       "    </tr>\n",
       "  </tbody>\n",
       "</table>\n",
       "</div>"
      ],
      "text/plain": [
       "  customer_id chnl_ind       MAC             GPI          NDC    PRICE  \\\n",
       "0        2701      M30  MAC27012  44201010103410  72572001401   6.2830   \n",
       "1        2701      M30  MAC27012  49270060006530  ***********   0.1964   \n",
       "2        2701      M30  MAC27012  86802320001820  ***********  29.3155   \n",
       "3        2701      M30  MAC27012  55100018103720  ***********   2.2444   \n",
       "4        2701      M30  MAC27012  43993003210420  ***********   0.4099   \n",
       "\n",
       "                      GPI_NDC MAC_LIST  \n",
       "0  44201010103410_72572001401    27012  \n",
       "1  49270060006530_***********    27012  \n",
       "2  86802320001820_***********    27012  \n",
       "3  55100018103720_***********    27012  \n",
       "4  43993003210420_***********    27012  "
      ]
     },
     "execution_count": 31,
     "metadata": {},
     "output_type": "execute_result"
    }
   ],
   "source": [
    "raw_prices.head()"
   ]
  },
  {
   "cell_type": "code",
   "execution_count": 32,
   "id": "637874df-cf3e-4c85-8d83-ad3ec738dc68",
   "metadata": {},
   "outputs": [
    {
     "data": {
      "text/html": [
       "<div>\n",
       "<style scoped>\n",
       "    .dataframe tbody tr th:only-of-type {\n",
       "        vertical-align: middle;\n",
       "    }\n",
       "\n",
       "    .dataframe tbody tr th {\n",
       "        vertical-align: top;\n",
       "    }\n",
       "\n",
       "    .dataframe thead th {\n",
       "        text-align: right;\n",
       "    }\n",
       "</style>\n",
       "<table border=\"1\" class=\"dataframe\">\n",
       "  <thead>\n",
       "    <tr style=\"text-align: right;\">\n",
       "      <th></th>\n",
       "      <th>MACLIST</th>\n",
       "      <th>GPI</th>\n",
       "      <th>GPPC</th>\n",
       "      <th>NDC11</th>\n",
       "      <th>NAME</th>\n",
       "      <th>EFFDATE</th>\n",
       "      <th>TERMDATE</th>\n",
       "      <th>CurrentMAC</th>\n",
       "      <th>client_name</th>\n",
       "      <th>MACPRC</th>\n",
       "      <th>AT_RUN_ID</th>\n",
       "    </tr>\n",
       "  </thead>\n",
       "  <tbody>\n",
       "    <tr>\n",
       "      <th>0</th>\n",
       "      <td>MAC27011</td>\n",
       "      <td>72600065000330</td>\n",
       "      <td>********</td>\n",
       "      <td>***********</td>\n",
       "      <td>NaN</td>\n",
       "      <td>20232922</td>\n",
       "      <td>20391231</td>\n",
       "      <td>7.4055</td>\n",
       "      <td>2701</td>\n",
       "      <td>5.6282</td>\n",
       "      <td>CS20230802000000000002701</td>\n",
       "    </tr>\n",
       "    <tr>\n",
       "      <th>1</th>\n",
       "      <td>MAC27011</td>\n",
       "      <td>39400075000320</td>\n",
       "      <td>********</td>\n",
       "      <td>***********</td>\n",
       "      <td>NaN</td>\n",
       "      <td>20232922</td>\n",
       "      <td>20391231</td>\n",
       "      <td>0.0303</td>\n",
       "      <td>2701</td>\n",
       "      <td>0.0230</td>\n",
       "      <td>CS20230802000000000002701</td>\n",
       "    </tr>\n",
       "    <tr>\n",
       "      <th>2</th>\n",
       "      <td>MAC27011</td>\n",
       "      <td>34000018100120</td>\n",
       "      <td>********</td>\n",
       "      <td>***********</td>\n",
       "      <td>NaN</td>\n",
       "      <td>20232922</td>\n",
       "      <td>20391231</td>\n",
       "      <td>5.4743</td>\n",
       "      <td>2701</td>\n",
       "      <td>4.1605</td>\n",
       "      <td>CS20230802000000000002701</td>\n",
       "    </tr>\n",
       "    <tr>\n",
       "      <th>3</th>\n",
       "      <td>MAC27011</td>\n",
       "      <td>72600075006820</td>\n",
       "      <td>********</td>\n",
       "      <td>***********</td>\n",
       "      <td>NaN</td>\n",
       "      <td>20232922</td>\n",
       "      <td>20391231</td>\n",
       "      <td>0.5553</td>\n",
       "      <td>2701</td>\n",
       "      <td>0.4220</td>\n",
       "      <td>CS20230802000000000002701</td>\n",
       "    </tr>\n",
       "    <tr>\n",
       "      <th>4</th>\n",
       "      <td>MAC27011</td>\n",
       "      <td>61400020102030</td>\n",
       "      <td>********</td>\n",
       "      <td>***********</td>\n",
       "      <td>NaN</td>\n",
       "      <td>20232922</td>\n",
       "      <td>20391231</td>\n",
       "      <td>0.8481</td>\n",
       "      <td>2701</td>\n",
       "      <td>0.6446</td>\n",
       "      <td>CS20230802000000000002701</td>\n",
       "    </tr>\n",
       "  </tbody>\n",
       "</table>\n",
       "</div>"
      ],
      "text/plain": [
       "    MACLIST             GPI      GPPC        NDC11  NAME   EFFDATE  TERMDATE  \\\n",
       "0  MAC27011  72600065000330  ********  ***********   NaN  20232922  20391231   \n",
       "1  MAC27011  39400075000320  ********  ***********   NaN  20232922  20391231   \n",
       "2  MAC27011  34000018100120  ********  ***********   NaN  20232922  20391231   \n",
       "3  MAC27011  72600075006820  ********  ***********   NaN  20232922  20391231   \n",
       "4  MAC27011  61400020102030  ********  ***********   NaN  20232922  20391231   \n",
       "\n",
       "   CurrentMAC  client_name  MACPRC                  AT_RUN_ID  \n",
       "0      7.4055         2701  5.6282  CS20230802000000000002701  \n",
       "1      0.0303         2701  0.0230  CS20230802000000000002701  \n",
       "2      5.4743         2701  4.1605  CS20230802000000000002701  \n",
       "3      0.5553         2701  0.4220  CS20230802000000000002701  \n",
       "4      0.8481         2701  0.6446  CS20230802000000000002701  "
      ]
     },
     "execution_count": 32,
     "metadata": {},
     "output_type": "execute_result"
    }
   ],
   "source": [
    "output_prices.head()"
   ]
  },
  {
   "cell_type": "code",
   "execution_count": 33,
   "id": "2eda9481-c4ce-4356-ad15-6eb6e8c07d70",
   "metadata": {},
   "outputs": [
    {
     "name": "stdout",
     "output_type": "stream",
     "text": [
      "combo prices before 7332 6788\n",
      "combo prices after 7332 6788 with 6788 changed prices\n"
     ]
    }
   ],
   "source": [
    "print(\"combo prices before\", len(raw_prices), len(output_prices))\n",
    "combo_prices = raw_prices.merge(output_prices, left_on=['MAC', 'GPI', 'NDC'], right_on=['MACLIST', 'GPI', 'NDC11'], how='left')\n",
    "combo_prices['CHANGED'] = ~combo_prices['MACPRC'].isna()\n",
    "combo_prices['NEW_PRICE'] = combo_prices['MACPRC']\n",
    "combo_prices.loc[combo_prices['NEW_PRICE'].isna(), 'NEW_PRICE'] = combo_prices.loc[combo_prices['PRICE'].isna(), 'NEW_PRICE']\n",
    "print(\"combo prices after\", len(raw_prices), len(output_prices), \"with\", combo_prices['CHANGED'].sum(), 'changed prices')\n"
   ]
  },
  {
   "cell_type": "code",
   "execution_count": 34,
   "id": "ad813193-9d9d-43f4-ad82-15d2b257f9da",
   "metadata": {},
   "outputs": [
    {
     "name": "stdout",
     "output_type": "stream",
     "text": [
      "Imported 4411 rows and 2 columns from BQ table gpi_change_exclusion_ndc\n"
     ]
    }
   ],
   "source": [
    "overrides_1 = uf.read_BQ_data(\n",
    "        BQ.gpi_change_exclusion_ndc,\n",
    "        project_id='anbc-prod',\n",
    "        dataset_id='fdl_gdp_ae_ds_pro_lp_share_ent_prod',\n",
    "        table_id='gpi_change_exclusion_ndc'\n",
    "    )\n"
   ]
  },
  {
   "cell_type": "code",
   "execution_count": 35,
   "id": "1d6ae90c-eb73-44f8-8828-c1d84deb3815",
   "metadata": {},
   "outputs": [
    {
     "data": {
      "text/html": [
       "<div>\n",
       "<style scoped>\n",
       "    .dataframe tbody tr th:only-of-type {\n",
       "        vertical-align: middle;\n",
       "    }\n",
       "\n",
       "    .dataframe tbody tr th {\n",
       "        vertical-align: top;\n",
       "    }\n",
       "\n",
       "    .dataframe thead th {\n",
       "        text-align: right;\n",
       "    }\n",
       "</style>\n",
       "<table border=\"1\" class=\"dataframe\">\n",
       "  <thead>\n",
       "    <tr style=\"text-align: right;\">\n",
       "      <th></th>\n",
       "      <th>GPI_CD</th>\n",
       "      <th>DRUG_ID</th>\n",
       "    </tr>\n",
       "  </thead>\n",
       "  <tbody>\n",
       "    <tr>\n",
       "      <th>1286</th>\n",
       "      <td>21360030000320</td>\n",
       "      <td>50742036630</td>\n",
       "    </tr>\n",
       "    <tr>\n",
       "      <th>1287</th>\n",
       "      <td>21360030000320</td>\n",
       "      <td>00480405356</td>\n",
       "    </tr>\n",
       "    <tr>\n",
       "      <th>1288</th>\n",
       "      <td>21360030000320</td>\n",
       "      <td>69339016803</td>\n",
       "    </tr>\n",
       "    <tr>\n",
       "      <th>1289</th>\n",
       "      <td>21360030000320</td>\n",
       "      <td>60505451203</td>\n",
       "    </tr>\n",
       "    <tr>\n",
       "      <th>1290</th>\n",
       "      <td>21360030000320</td>\n",
       "      <td>00310048230</td>\n",
       "    </tr>\n",
       "  </tbody>\n",
       "</table>\n",
       "</div>"
      ],
      "text/plain": [
       "              GPI_CD      DRUG_ID\n",
       "1286  21360030000320  50742036630\n",
       "1287  21360030000320  00480405356\n",
       "1288  21360030000320  69339016803\n",
       "1289  21360030000320  60505451203\n",
       "1290  21360030000320  00310048230"
      ]
     },
     "execution_count": 35,
     "metadata": {},
     "output_type": "execute_result"
    }
   ],
   "source": [
    "overrides_1[overrides_1['GPI_CD']=='21360030000320']"
   ]
  },
  {
   "cell_type": "code",
   "execution_count": 36,
   "id": "1eee5f91-6707-4228-a52e-e1b871c84698",
   "metadata": {},
   "outputs": [
    {
     "name": "stdout",
     "output_type": "stream",
     "text": [
      "Imported 0 rows and 10 columns from BQ table wmt_unc_override\n"
     ]
    }
   ],
   "source": [
    "overrides_3 = []\n",
    "for customer_id in customer_id_list:\n",
    "    overrides_3.append(uf.read_BQ_data(\n",
    "            BQ.wmt_unc_override_custom.format(_customer_id = uf.get_formatted_string([customer_id]),\n",
    "                                              _project = \"pbm-mac-lp-prod-ai\",\n",
    "                                              _dataset = 'ds_sandbox',\n",
    "                                              _table = \"wmt_unc_override\"),\n",
    "            project_id =  \"pbm-mac-lp-prod-ai\",\n",
    "            dataset_id = 'ds_sandbox',\n",
    "            table_id = \"wmt_unc_override\",\n",
    "            custom = True\n",
    "        ))\n",
    "overrides_3 = pd.concat(overrides_3)"
   ]
  },
  {
   "cell_type": "code",
   "execution_count": 37,
   "id": "1d98694b-15b9-42c2-a00b-14916695c729",
   "metadata": {},
   "outputs": [
    {
     "name": "stdout",
     "output_type": "stream",
     "text": [
      "Imported 752 rows and 9 columns from BQ table ger_opt_mac_price_override\n"
     ]
    }
   ],
   "source": [
    "overrides_2 = []\n",
    "for customer_id in customer_id_list:\n",
    "    overrides_2.append(uf.read_BQ_data(\n",
    "            BQ.ger_opt_mac_price_override_custom.format(_customer_id = uf.get_formatted_string([customer_id]),\n",
    "                                                        _project = 'anbc-prod',\n",
    "                                                        _landing_dataset = 'fdl_gdp_ae_ds_pro_lp_share_ent_prod',\n",
    "                                                        _table_id = \"ger_opt_mac_price_override\"),\n",
    "            project_id='anbc-prod',\n",
    "            dataset_id='fdl_gdp_ae_ds_pro_lp_share_ent_prod',\n",
    "            table_id=\"ger_opt_mac_price_override\",\n",
    "            custom = True\n",
    "        ))\n",
    "overrides_2 = pd.concat(overrides_2)"
   ]
  },
  {
   "cell_type": "code",
   "execution_count": 38,
   "id": "f7c90c22-cbd2-414d-a9b5-a0bff31ed06c",
   "metadata": {},
   "outputs": [
    {
     "name": "stdout",
     "output_type": "stream",
     "text": [
      "Customer ID 2701\n",
      "27012    2264\n",
      "27011    2262\n",
      "27013    2262\n",
      "Name: MAC_LIST, dtype: int64\n",
      "-------------------------------------------\n"
     ]
    }
   ],
   "source": [
    "# Check number of changes per vcml\n",
    "for cid in customer_id_list:\n",
    "    cid = str(cid)\n",
    "    print(\"Customer ID\", cid)\n",
    "    cp = combo_prices[(combo_prices['customer_id']==cid) & combo_prices['CHANGED']]\n",
    "    print(cp['MAC_LIST'].value_counts())\n",
    "    print(\"-------------------------------------------\")"
   ]
  },
  {
   "cell_type": "code",
   "execution_count": 39,
   "id": "51d15994-9356-43a1-a3bf-70de8a58c54a",
   "metadata": {},
   "outputs": [
    {
     "name": "stdout",
     "output_type": "stream",
     "text": [
      "Customer ID 2701\n"
     ]
    },
    {
     "name": "stderr",
     "output_type": "stream",
     "text": [
      "/var/tmp/ipykernel_4106257/2563499057.py:6: SettingWithCopyWarning: \n",
      "A value is trying to be set on a copy of a slice from a DataFrame.\n",
      "Try using .loc[row_indexer,col_indexer] = value instead\n",
      "\n",
      "See the caveats in the documentation: https://pandas.pydata.org/pandas-docs/stable/user_guide/indexing.html#returning-a-view-versus-a-copy\n",
      "  cp_r['ratio'] = cp_r['MACPRC']/cp_r['CurrentMAC']\n"
     ]
    },
    {
     "data": {
      "image/png": "[encoded data removed]",
      "text/plain": [
       "<Figure size 640x480 with 1 Axes>"
      ]
     },
     "metadata": {},
     "output_type": "display_data"
    }
   ],
   "source": [
    "# Check distribution of changes for retail\n",
    "for cid in customer_id_list:\n",
    "    cid = str(cid)\n",
    "    print(\"Customer ID\", cid)\n",
    "    cp_r = combo_prices[(combo_prices['customer_id']==cid) & combo_prices['CHANGED'] & (combo_prices['chnl_ind']!='M30') & (combo_prices['MACPRC']!=combo_prices['CurrentMAC'])]\n",
    "    cp_r['ratio'] = cp_r['MACPRC']/cp_r['CurrentMAC']\n",
    "    fig, ax = plt.subplots()\n",
    "    ax.hist(cp_r['ratio'], bins=20)\n",
    "    ax.axvline(desired_r30[cid])\n",
    "    ax.axvline(desired_r90[cid])\n",
    "    ax.set_xlabel(\"New price/old price\")\n",
    "    ax.set_ylabel(\"Number of prices\")\n",
    "    ax.set_title(\"Retail \"+cid)\n",
    "\n",
    "\n"
   ]
  },
  {
   "cell_type": "code",
   "execution_count": 40,
   "id": "9127cf31-3631-413c-ad31-60032f8418c6",
   "metadata": {},
   "outputs": [
    {
     "name": "stdout",
     "output_type": "stream",
     "text": [
      "Customer ID 2701\n"
     ]
    },
    {
     "name": "stderr",
     "output_type": "stream",
     "text": [
      "/var/tmp/ipykernel_4106257/2026798003.py:6: SettingWithCopyWarning: \n",
      "A value is trying to be set on a copy of a slice from a DataFrame.\n",
      "Try using .loc[row_indexer,col_indexer] = value instead\n",
      "\n",
      "See the caveats in the documentation: https://pandas.pydata.org/pandas-docs/stable/user_guide/indexing.html#returning-a-view-versus-a-copy\n",
      "  cp_m['ratio'] = cp_m['MACPRC']/cp_m['CurrentMAC']\n"
     ]
    },
    {
     "data": {
      "image/png": "[encoded data removed]",
      "text/plain": [
       "<Figure size 640x480 with 1 Axes>"
      ]
     },
     "metadata": {},
     "output_type": "display_data"
    }
   ],
   "source": [
    "# Check distribution of changes for mail\n",
    "for cid in customer_id_list:\n",
    "    cid = str(cid)\n",
    "    print(\"Customer ID\", cid)\n",
    "    cp_m = combo_prices[(combo_prices['customer_id']==cid) & combo_prices['CHANGED'] & (combo_prices['chnl_ind']=='M30') & (combo_prices['MACPRC']!=combo_prices['CurrentMAC'])]\n",
    "    cp_m['ratio'] = cp_m['MACPRC']/cp_m['CurrentMAC']\n",
    "    fig, ax = plt.subplots()\n",
    "    ax.hist(cp_m['ratio'])\n",
    "    ax.axvline(desired_mail[cid])\n",
    "    ax.set_xlabel(\"New price/old price\")\n",
    "    ax.set_ylabel(\"Number of prices\")\n",
    "    ax.set_title(\"Mail \"+cid)\n"
   ]
  },
  {
   "cell_type": "code",
   "execution_count": 41,
   "id": "75172773-e5cb-4e91-8f1c-5d7065c99345",
   "metadata": {},
   "outputs": [],
   "source": [
    "combo_prices['IS_MAIL'] = combo_prices['chnl_ind']=='M30'\n",
    "combo_prices['IS_R90'] = combo_prices['chnl_ind'].str.contains('90')"
   ]
  },
  {
   "cell_type": "code",
   "execution_count": 42,
   "id": "03b0ce62-7b90-4e20-a674-6b90d4759bc6",
   "metadata": {},
   "outputs": [
    {
     "name": "stdout",
     "output_type": "stream",
     "text": [
      "Violations for 2701  R30: 0\n",
      "Violations for 2701  R90: 0\n"
     ]
    }
   ],
   "source": [
    "# Check CVS parity\n",
    "\n",
    "for cid in customer_id_list:\n",
    "    cid = str(cid)\n",
    "    cp = combo_prices[(combo_prices['customer_id']==cid) & ~combo_prices['IS_R90'] & ~combo_prices['IS_MAIL']]\n",
    "    if 'CVSSP' in cp['chnl_ind'].unique():\n",
    "        match_vcml = 'CVSSP'\n",
    "    else:\n",
    "        match_vcml = 'CVS'\n",
    "    min_retail = cp[cp['chnl_ind']!=match_vcml].groupby(['GPI', 'NDC'], as_index=False).agg({'NEW_PRICE': min, 'CHANGED': any}).rename(columns={'NEW_PRICE': 'COMPARISON_PRICE', 'CHANGED': 'COMPARISON_CHANGED'})\n",
    "    cp_check = cp[cp['chnl_ind']==match_vcml].merge(min_retail, on=['GPI', 'NDC'])\n",
    "    cp_check = cp_check[cp_check['CHANGED'] | cp_check['COMPARISON_CHANGED']]\n",
    "    print(\"Violations for\", cid, \" R30:\", (cp_check['NEW_PRICE']>cp_check['COMPARISON_PRICE']).sum())\n",
    "    cp = combo_prices[(combo_prices['customer_id']==cid) & combo_prices['IS_R90']]\n",
    "    if cp.empty:\n",
    "        continue\n",
    "    if 'CVSSP90' in cp['chnl_ind'].unique():\n",
    "        match_vcml = 'CVSSP90'\n",
    "    elif 'CVS90' in cp['chnl_ind'].unique():\n",
    "        match_vcml = 'CVS90'\n",
    "    else:\n",
    "        match_vcml = 'R90'\n",
    "    min_retail = cp[cp['chnl_ind']!=match_vcml].groupby(['GPI', 'NDC'], as_index=False).agg({'NEW_PRICE': min, 'CHANGED': any}).rename(columns={'NEW_PRICE': 'COMPARISON_PRICE', 'CHANGED': 'COMPARISON_CHANGED'})\n",
    "    cp_check = cp[cp['chnl_ind']==match_vcml].merge(min_retail, on=['GPI', 'NDC'])\n",
    "    cp_check = cp_check[cp_check['CHANGED'] | cp_check['COMPARISON_CHANGED']]\n",
    "    print(\"Violations for\", cid, \" R90:\", (cp_check['NEW_PRICE']>cp_check['COMPARISON_PRICE']).sum())    \n",
    "    if(cp_check['NEW_PRICE']>cp_check['COMPARISON_PRICE']).any():\n",
    "        print(cp_check[cp_check['NEW_PRICE']>cp_check['COMPARISON_PRICE']])"
   ]
  },
  {
   "cell_type": "code",
   "execution_count": 43,
   "id": "43303df5-686f-4a13-9244-4bdd063cacce",
   "metadata": {},
   "outputs": [
    {
     "name": "stdout",
     "output_type": "stream",
     "text": [
      "['R30' 'R90']\n",
      "Violations for 2701 R30 : 0\n"
     ]
    }
   ],
   "source": [
    "# Check R30-R90\n",
    "\n",
    "for cid in customer_id_list:\n",
    "    cid = str(cid)\n",
    "    cp = combo_prices[(combo_prices['customer_id']==cid) & ~combo_prices['IS_MAIL']]\n",
    "    chnl_ind_list = cp['chnl_ind'].unique()\n",
    "    print(chnl_ind_list)\n",
    "    if not any(['90' in chnl_ind for chnl_ind in chnl_ind_list]):\n",
    "        continue\n",
    "    for chnl_ind in chnl_ind_list:\n",
    "        if '90' in chnl_ind:\n",
    "            continue\n",
    "        if (chnl_ind+'90' in chnl_ind_list) or (chnl_ind+' 90' in chnl_ind_list):\n",
    "            comp_r90 = chnl_ind+'90'\n",
    "        elif chnl_ind in ('WAG', 'WMT', 'RAD', 'KGR', 'KRG') and 'R90CH' in chnl_ind_list:\n",
    "            comp_r90 = 'R90CH'\n",
    "        else:\n",
    "            comp_r90 = 'R90'\n",
    "        cp30 = cp[cp['chnl_ind']==chnl_ind]\n",
    "        cp90 = cp[cp['chnl_ind']==comp_r90]\n",
    "        cp_check = cp30.merge(cp90, on=['GPI', 'NDC'], suffixes=('_R30', '_R90'))\n",
    "        cp_check = cp_check[cp_check['CHANGED_R30'] | cp_check['CHANGED_R90']]\n",
    "        print(\"Violations for\", cid, chnl_ind, \":\", (cp_check['NEW_PRICE_R90']>cp_check['NEW_PRICE_R30']+0.0001).sum())"
   ]
  },
  {
   "cell_type": "code",
   "execution_count": 44,
   "id": "aeb16c3d-c525-4f65-aa5d-ab2055ec226f",
   "metadata": {},
   "outputs": [
    {
     "name": "stdout",
     "output_type": "stream",
     "text": [
      "Violations for 2701  MAIL: 0\n"
     ]
    }
   ],
   "source": [
    "# Check Mail - min(R30, R90)\n",
    "# Check CVS parity\n",
    "\n",
    "for cid in customer_id_list:\n",
    "    cid = str(cid)\n",
    "    cp = combo_prices[(combo_prices['customer_id']==cid) & ~combo_prices['IS_MAIL']]\n",
    "    min_retail = cp.groupby(['GPI', 'NDC'], as_index=False).agg({'NEW_PRICE': min, 'CHANGED': any}).rename(columns={'NEW_PRICE': 'COMPARISON_PRICE', 'CHANGED': 'COMPARISON_CHANGED'})\n",
    "    cp_check = combo_prices[(combo_prices['customer_id']==cid) & combo_prices['IS_MAIL']].merge(min_retail, on=['GPI', 'NDC'])\n",
    "    cp_check = cp_check[cp_check['CHANGED'] | cp_check['COMPARISON_CHANGED']]\n",
    "    print(\"Violations for\", cid, \" MAIL:\", (cp_check['NEW_PRICE']>cp_check['COMPARISON_PRICE']).sum())\n"
   ]
  },
  {
   "cell_type": "code",
   "execution_count": 45,
   "id": "c02dea22-4b70-4180-9f3c-4ebc6e8f9ff9",
   "metadata": {},
   "outputs": [
    {
     "name": "stdout",
     "output_type": "stream",
     "text": [
      "Disallowed prices changed: 0\n"
     ]
    }
   ],
   "source": [
    "# check overrides 1\n",
    "changed = combo_prices[combo_prices['CHANGED']]\n",
    "print(\"Disallowed prices changed:\", changed['GPI'].isin(overrides_1['GPI_CD'].unique()).sum())\n",
    "\n"
   ]
  },
  {
   "cell_type": "code",
   "execution_count": 46,
   "id": "6352b788-60c9-43f5-aeb8-2ffa71eead31",
   "metadata": {},
   "outputs": [
    {
     "data": {
      "text/html": [
       "<div>\n",
       "<style scoped>\n",
       "    .dataframe tbody tr th:only-of-type {\n",
       "        vertical-align: middle;\n",
       "    }\n",
       "\n",
       "    .dataframe tbody tr th {\n",
       "        vertical-align: top;\n",
       "    }\n",
       "\n",
       "    .dataframe thead th {\n",
       "        text-align: right;\n",
       "    }\n",
       "</style>\n",
       "<table border=\"1\" class=\"dataframe\">\n",
       "  <thead>\n",
       "    <tr style=\"text-align: right;\">\n",
       "      <th></th>\n",
       "      <th>customer_id</th>\n",
       "      <th>chnl_ind</th>\n",
       "      <th>MAC</th>\n",
       "      <th>GPI</th>\n",
       "      <th>NDC</th>\n",
       "      <th>PRICE</th>\n",
       "      <th>GPI_NDC</th>\n",
       "      <th>MAC_LIST</th>\n",
       "      <th>MACLIST</th>\n",
       "      <th>GPPC</th>\n",
       "      <th>...</th>\n",
       "      <th>EFFDATE</th>\n",
       "      <th>TERMDATE</th>\n",
       "      <th>CurrentMAC</th>\n",
       "      <th>client_name</th>\n",
       "      <th>MACPRC</th>\n",
       "      <th>AT_RUN_ID</th>\n",
       "      <th>CHANGED</th>\n",
       "      <th>NEW_PRICE</th>\n",
       "      <th>IS_MAIL</th>\n",
       "      <th>IS_R90</th>\n",
       "    </tr>\n",
       "  </thead>\n",
       "  <tbody>\n",
       "  </tbody>\n",
       "</table>\n",
       "<p>0 rows × 22 columns</p>\n",
       "</div>"
      ],
      "text/plain": [
       "Empty DataFrame\n",
       "Columns: [customer_id, chnl_ind, MAC, GPI, NDC, PRICE, GPI_NDC, MAC_LIST, MACLIST, GPPC, NDC11, NAME, EFFDATE, TERMDATE, CurrentMAC, client_name, MACPRC, AT_RUN_ID, CHANGED, NEW_PRICE, IS_MAIL, IS_R90]\n",
       "Index: []\n",
       "\n",
       "[0 rows x 22 columns]"
      ]
     },
     "execution_count": 46,
     "metadata": {},
     "output_type": "execute_result"
    }
   ],
   "source": [
    "changed[changed['GPI'].isin(overrides_1['GPI_CD'].unique())]"
   ]
  },
  {
   "cell_type": "code",
   "execution_count": 47,
   "id": "53720df2-7478-477a-a830-d6db3ec790df",
   "metadata": {},
   "outputs": [
    {
     "name": "stdout",
     "output_type": "stream",
     "text": [
      "Disallowed prices changed for 2701 : 0\n"
     ]
    }
   ],
   "source": [
    "# check overrides 2\n",
    "for customer_id in customer_id_list:\n",
    "    o2 = overrides_2[overrides_2['CLIENT']==str(customer_id)]\n",
    "    ch = changed[changed['customer_id']==str(customer_id)]\n",
    "    print(\"Disallowed prices changed for\", customer_id, \":\", ch['GPI'].isin(o2['GPI'].unique()).sum())"
   ]
  },
  {
   "cell_type": "code",
   "execution_count": 48,
   "id": "9f157478-d335-4d7b-b08a-83b7aa65545b",
   "metadata": {},
   "outputs": [],
   "source": [
    "# check overrides 3\n",
    "for customer_id in customer_id_list:\n",
    "    o3 = overrides_3[overrides_3['CLIENT']==str(customer_id)]\n",
    "    for vcml_id in o3['VCML_ID'].unique():\n",
    "        o3v = overrides_3[overrides_3['VCML_ID']==vcml_id]\n",
    "        ch = changed[(changed['customer_id']==str(customer_id)) & (changed['MACLIST']==vcml_id)]\n",
    "        print(\"Disallowed prices changed for\", customer_id, vcml_id, \":\", ch['GPI'].isin(o3v['GPI'].unique()).sum(), \"out of\", len(ch))"
   ]
  },
  {
   "cell_type": "code",
   "execution_count": null,
   "id": "75a2decd-7671-490d-8d7c-f87363e5ed51",
   "metadata": {},
   "outputs": [],
   "source": []
  }
 ],
 "metadata": {
  "environment": {
   "kernel": "python3",
   "name": "common-cpu.m109",
   "type": "gcloud",
   "uri": "gcr.io/deeplearning-platform-release/base-cpu:m109"
  },
  "kernelspec": {
   "display_name": "Python 3",
   "language": "python",
   "name": "python3"
  },
  "language_info": {
   "codemirror_mode": {
    "name": "ipython",
    "version": 3
   },
   "file_extension": ".py",
   "mimetype": "text/x-python",
   "name": "python",
   "nbconvert_exporter": "python",
   "pygments_lexer": "ipython3",
   "version": "3.10.11"
  }
 },
 "nbformat": 4,
 "nbformat_minor": 5
}
