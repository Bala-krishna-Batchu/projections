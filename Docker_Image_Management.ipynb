{
 "cells": [
  {
   "cell_type": "markdown",
   "metadata": {},
   "source": [
    "# Docker Image Management"
   ]
  },
  {
   "cell_type": "markdown",
   "metadata": {},
   "source": [
    "This notebook takes the latest docker file (opt_dockerfile), creates an image from it, and then pushes the image to GCP Container Registry, where it will be available for use by Kubeflow.\n",
    "\n",
    "If you are creating a new image/version, update the parameters below as needed, and follow the notebook.\n",
    "\n",
    "If you are replacing an already existing image, use the Clean Up Image Space section to remove/replace the existing image/version."
   ]
  },
  {
   "cell_type": "code",
   "execution_count": null,
   "metadata": {},
   "outputs": [],
   "source": [
    "import socket"
   ]
  },
  {
   "cell_type": "code",
   "execution_count": null,
   "metadata": {},
   "outputs": [],
   "source": [
    "# params\n",
    "HNAME ='us.gcr.io'  # container registry address\n",
    "PROJECT_ID ='pbm-mac-lp-prod-ai' \n",
    "\n",
    "# Image Names\n",
    "BASE_NAME = 'pbm_base'\n",
    "SCRIPT_RUN_NAME = 'pbm_script_run'\n",
    "OPT_NAME = 'pbm_opt'\n",
    "\n",
    "# Image Version Setup\n",
    "git_hash = !git rev-parse --short HEAD\n",
    "git_branch = !git rev-parse --abbrev-ref HEAD\n",
    "version_iteration = '0'  # change as needed, this should follow the version of the code on GIT\n",
    "version_type = f'WIP-{socket.gethostname()}'  # Use 'PROD' and 'DEV' only for official versions.  For individual test use the WIP-YOUR_NAME.  This will allow to easy find and thelete those images\n",
    "version = f'{git_branch[0]}-{git_hash[0]}-{version_type}-{version_iteration}'\n",
    "try:\n",
    "    version = version.split('/')[1]\n",
    "except:\n",
    "    pass\n",
    "\n",
    "# Tags for Google Container Registry (where google stores images)\n",
    "BASE_TAG = f\"{HNAME}/{PROJECT_ID}/{BASE_NAME}:{version}\"\n",
    "SCRIPT_RUN_TAG = f\"{HNAME}/{PROJECT_ID}/{SCRIPT_RUN_NAME}:{version}\"\n",
    "OPT_TAG = f\"{HNAME}/{PROJECT_ID}/{OPT_NAME}:{version}\""
   ]
  },
  {
   "cell_type": "code",
   "execution_count": null,
   "metadata": {},
   "outputs": [],
   "source": [
    "print(version)"
   ]
  },
  {
   "cell_type": "markdown",
   "metadata": {},
   "source": [
    "#### Clean Up Image Space (Optional)"
   ]
  },
  {
   "cell_type": "markdown",
   "metadata": {},
   "source": [
    "Each image created in this notebook is pushed to GCP Container Registry. Use the next cell to list current images/versions. "
   ]
  },
  {
   "cell_type": "code",
   "execution_count": null,
   "metadata": {},
   "outputs": [],
   "source": [
    "!gcloud container images list --repository {HNAME}/{PROJECT_ID}\n",
    "!gcloud container images list-tags {HNAME}/{PROJECT_ID}/{BASE_NAME}"
   ]
  },
  {
   "cell_type": "markdown",
   "metadata": {},
   "source": [
    "If an image will be replaced it must be deleted from GCP Container Registry first. Use the below cell to delete the image or image version if needed. Uncomment and fill in the command(s) below as needed."
   ]
  },
  {
   "cell_type": "code",
   "execution_count": null,
   "metadata": {},
   "outputs": [],
   "source": [
    "# Delete a specific tag (image version)\n",
    "# CAUTION! These commands delete images/versions and cannot be undone.\n",
    "# It can be done via de version name or DIGEST\n",
    "\n",
    "# VERSION_DELETE is the version that one wants to delete.\n",
    "# VERSION_DELETE = ''\n",
    "# !gcloud container images delete --quiet --force-delete-tags {HNAME}/{PROJECT_ID}/{SCRIPT_RUN_NAME}:{VERSION_DELETE}\n",
    "# !gcloud container images delete --quiet --force-delete-tags {HNAME}/{PROJECT_ID}/{OPT_NAME}:{VERSION_DELETE}\n",
    "# !gcloud container images delete --quiet --force-delete-tags {HNAME}/{PROJECT_ID}/{BASE_NAME}:{VERSION_DELETE}\n",
    "\n",
    "# VERSION_DIGEST is the version that one wants to delete as DIGEST.\n",
    "# VERSION_DIGEST = ''\n",
    "# !gcloud container images delete --quiet --force-delete-tags {HNAME}/{PROJECT_ID}/{SCRIPT_RUN_NAME}@{VERSION_DIGEST}\n",
    "# !gcloud container images delete --quiet --force-delete-tags {HNAME}/{PROJECT_ID}/{OPT_NAME}@{VERSION_DIGEST}\n",
    "# !gcloud container images delete --quiet --force-delete-tags {HNAME}/{PROJECT_ID}/{BASE_NAME}@{VERSION_DIGEST}"
   ]
  },
  {
   "cell_type": "markdown",
   "metadata": {},
   "source": [
    "Images can be batch deleted with the cell below. Uncomment and fill in the date to delete the images created before it.\n",
    "We filter out PROD-CPMO-* images so that we don't accidentally delete our production images built from the master branch."
   ]
  },
  {
   "cell_type": "code",
   "execution_count": null,
   "metadata": {},
   "outputs": [],
   "source": [
    "# import datetime as dt\n",
    "# delete_date = dt.datetime.strptime('01/01/2022', '%m/%d/%Y')\n",
    "# imgs = !gcloud container images list-tags {HNAME}/{PROJECT_ID}/{BASE_NAME} --format=\"get(digest, timestamp)\" --filter=\"-tags:PROD-CPMO-\"\n",
    "# # add \"--filter='-tags:*'\" to the above gcloud call to only delete images with empty tags\n",
    "# for row in imgs:\n",
    "#     row_split = row.split('\\t')\n",
    "#     VERSION_DIGEST = row_split[0]\n",
    "#     img_ts = dict()\n",
    "#     for dt_str in row_split[1].split(';'):\n",
    "#         img_ts[dt_str.split('=')[0]] = dt_str.split('=')[1]\n",
    "    \n",
    "#     if dt.datetime(int(img_ts['year']), int(img_ts['month']), int(img_ts['day'])) < delete_date:\n",
    "#         !gcloud container images delete --quiet --force-delete-tags {HNAME}/{PROJECT_ID}/{SCRIPT_RUN_NAME}@{VERSION_DIGEST}\n",
    "#         !gcloud container images delete --quiet --force-delete-tags {HNAME}/{PROJECT_ID}/{OPT_NAME}@{VERSION_DIGEST}\n",
    "#         !gcloud container images delete --quiet --force-delete-tags {HNAME}/{PROJECT_ID}/{BASE_NAME}@{VERSION_DIGEST}"
   ]
  },
  {
   "cell_type": "markdown",
   "metadata": {},
   "source": [
    "Images are built locally before they are pushed to GCP Container Registry. Use the following commands to list, and optionally clean up (delete) local image versions. If you have worked on the same Jupyter Notebook server instance for a while, you may have several local images/versions from previous builds."
   ]
  },
  {
   "cell_type": "code",
   "execution_count": null,
   "metadata": {},
   "outputs": [],
   "source": [
    "!docker image list"
   ]
  },
  {
   "cell_type": "code",
   "execution_count": null,
   "metadata": {},
   "outputs": [],
   "source": [
    "# Delete image tags (replace IMAGE_NAME, uncomment, and run as needed)\n",
    "\n",
    "# !docker image rm us.gcr.io/{PROJECT_ID}/pbm_opt:{IMAGE_NAME}  #<-- IMAGE_NAME>\n",
    "# !docker image rm pbm_opt:{IMAGE_NAME}  #<-- IMAGE_NAME>\n",
    "\n",
    "# !docker image rm us.gcr.io/{PROJECT_ID}/pbm_base:{IMAGE_NAME}  #<-- IMAGE_NAME>\n",
    "# !docker image rm pbm_base:{IMAGE_NAME}  #<-- IMAGE_NAME>\n",
    "\n",
    "# !docker image rm us.gcr.io/{PROJECT_ID}/pbm_script_run:{IMAGE_NAME}  #<-- IMAGE_NAME>\n",
    "# !docker image rm pbm_script_run:{IMAGE_NAME}  #<-- IMAGE_NAME>"
   ]
  },
  {
   "cell_type": "markdown",
   "metadata": {},
   "source": [
    "#### Build Docker Images Locally"
   ]
  },
  {
   "cell_type": "code",
   "execution_count": null,
   "metadata": {},
   "outputs": [],
   "source": [
    "# create docker image\n",
    "!docker build -f dockerfile-base -t {BASE_NAME}:{version} .\n",
    "# (use --no-cache if needed)"
   ]
  },
  {
   "cell_type": "code",
   "execution_count": null,
   "metadata": {},
   "outputs": [],
   "source": [
    "!docker image tag {BASE_NAME}:{version} {BASE_TAG}"
   ]
  },
  {
   "cell_type": "markdown",
   "metadata": {},
   "source": [
    "Build Script Run Image"
   ]
  },
  {
   "cell_type": "code",
   "execution_count": null,
   "metadata": {},
   "outputs": [],
   "source": [
    "dfile_prep = f\"\"\"FROM {BASE_TAG}\n",
    "RUN [\"pip\", \"install\", \"--upgrade\", \"scikit-learn==0.23.2\", \"scipy==1.6.2\", \"statsmodels==0.12.1\", \"--index-url\", \"https://nexus-ha.cvshealth.com:9443/repository/pypi-proxy/simple\"]\"\"\"\n",
    "print(dfile_prep, file=open(\"dockerfile-script-run\", \"w\"))"
   ]
  },
  {
   "cell_type": "code",
   "execution_count": null,
   "metadata": {},
   "outputs": [],
   "source": [
    "!docker build -f dockerfile-script-run -t {SCRIPT_RUN_NAME}:{version} .\n",
    "!docker image tag {SCRIPT_RUN_NAME}:{version} {SCRIPT_RUN_TAG}"
   ]
  },
  {
   "cell_type": "markdown",
   "metadata": {},
   "source": [
    "Build Optimization Image"
   ]
  },
  {
   "cell_type": "code",
   "execution_count": null,
   "metadata": {},
   "outputs": [],
   "source": [
    "dfile_opt = f\"\"\"FROM {BASE_TAG}\n",
    "RUN [\"pip\", \"install\", \"PuLP==2.4\",\"duckdb==0.8.0\", \"XlsxWriter==1.3.7\", \"--index-url\", \"https://nexus-ha.cvshealth.com:9443/repository/pypi-proxy/simple\"]\"\"\"\n",
    "print(dfile_opt, file=open(\"dockerfile-opt\", \"w\"))"
   ]
  },
  {
   "cell_type": "code",
   "execution_count": null,
   "metadata": {},
   "outputs": [],
   "source": [
    "!docker build -f dockerfile-opt -t {OPT_NAME}:{version} .\n",
    "!docker image tag {OPT_NAME}:{version} {OPT_TAG}"
   ]
  },
  {
   "cell_type": "markdown",
   "metadata": {},
   "source": [
    "#### Upload Images to GCP Container Registry"
   ]
  },
  {
   "cell_type": "code",
   "execution_count": null,
   "metadata": {},
   "outputs": [],
   "source": [
    "# upload image to container registry\n",
    "!docker push {BASE_TAG}"
   ]
  },
  {
   "cell_type": "code",
   "execution_count": null,
   "metadata": {},
   "outputs": [],
   "source": [
    "!docker push {SCRIPT_RUN_TAG}"
   ]
  },
  {
   "cell_type": "code",
   "execution_count": null,
   "metadata": {},
   "outputs": [],
   "source": [
    "!docker push {OPT_TAG}"
   ]
  }
 ],
 "metadata": {
  "environment": {
   "kernel": "python3",
   "name": "common-cpu.m111",
   "type": "gcloud",
   "uri": "gcr.io/deeplearning-platform-release/base-cpu:m111"
  },
  "kernelspec": {
   "display_name": "Python 3",
   "language": "python",
   "name": "python3"
  },
  "language_info": {
   "codemirror_mode": {
    "name": "ipython",
    "version": 3
   },
   "file_extension": ".py",
   "mimetype": "text/x-python",
   "name": "python",
   "nbconvert_exporter": "python",
   "pygments_lexer": "ipython3",
   "version": "3.7.12"
  }
 },
 "nbformat": 4,
 "nbformat_minor": 4
}
