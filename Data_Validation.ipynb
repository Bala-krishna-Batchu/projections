{
 "cells": [
  {
   "cell_type": "markdown",
   "id": "d37ee7bd",
   "metadata": {},
   "source": [
    "# Data Validation"
   ]
  },
  {
   "cell_type": "markdown",
   "id": "b2e3fa89",
   "metadata": {},
   "source": [
    "### Table of Contents"
   ]
  },
  {
   "cell_type": "markdown",
   "id": "d5765c18",
   "metadata": {},
   "source": [
    "- [Imports and Setup](#Imports-and-Setup)\n",
    "- [Parameters Check](#Parameters-Check)\n",
    "- [Inputs Check](#Inputs-Check)\n",
    "- [Outputs Check](#Outputs-Check)\n",
    "    - [Pre_Processing.py and Daily_Input_Read.py Outputs Check](#Pre_Processing.py-and-Daily_Input_Read.py-Outputs-Check)\n",
    "    - [CleintPharmacyMacOptimization.py Output Check](#CleintPharmacyMacOptimization.py-Output-Check)"
   ]
  },
  {
   "cell_type": "markdown",
   "id": "0e045e39",
   "metadata": {},
   "source": [
    "Use this notebook to investigate differences between optimization pipeline runs. Note that differences can occur for many reasons, including changes in user input parameters, changes in input data, and changes in code functionality. They can also occur due to differences in environments where the code is run; for example, a different version of Python, or a different version of the Pandas library is likely to lead to some changes in the outputs (for example, a different order of Python dictionary outputs, which are never guarenteed anyway). Environment differencies may be subtle, but they can have a large impact. For example, for example case-insensitivity on Windows means that `myfile.csv` and `MyFile.csv` are the same reference; however, they are not the same on Linux, and so this can lead to different results, for example on a Windows laptop vs. a Linux server on GCP.\n",
    "\n",
    "To set things up, you will need to have two seperate runs of the code pipeline, and access to the code, inputs, and outputs from both runs. The notebook is designed to make it easier to compare the resources from these separate runs."
   ]
  },
  {
   "cell_type": "markdown",
   "id": "e72ddfd0",
   "metadata": {},
   "source": [
    "### Imports and Setup"
   ]
  },
  {
   "cell_type": "code",
   "execution_count": null,
   "id": "51826ca7",
   "metadata": {},
   "outputs": [],
   "source": [
    "import os, re, shutil, hashlib, difflib\n",
    "import datetime as dt\n",
    "import pandas as pd\n",
    "import numpy as np\n",
    "\n",
    "from IPython.core.display import HTML"
   ]
  },
  {
   "cell_type": "markdown",
   "id": "69f08d47",
   "metadata": {},
   "source": [
    "**File Paths**"
   ]
  },
  {
   "cell_type": "markdown",
   "id": "5d49f33a",
   "metadata": {},
   "source": [
    "Paths in cloud storage should start with: 'gs://', the files saved on the local VM should be saved with the path starting with '/home/'.  Note that that the paths should end on the target directory not with a '/'"
   ]
  },
  {
   "cell_type": "code",
   "execution_count": null,
   "id": "09df9eb8",
   "metadata": {},
   "outputs": [],
   "source": [
    "orig_code_dir = 'gs://pbm-mac-lp-prod-ai-bucket/LP_MI/validation/UNC'\n",
    "compare_code_dir = '/home/jupyter/clientpharmacymacoptimization/GER_LP_Code'\n",
    "orig_input_dir = os.path.join(orig_code_dir, 'Input')\n",
    "compare_input_dir = orig_input_dir\n",
    "orig_output_dir = '/home/jupyter/Output'\n",
    "compare_output_dir = '/home/jupyter/Output'"
   ]
  },
  {
   "cell_type": "markdown",
   "id": "79f803e5",
   "metadata": {},
   "source": [
    "**Functions**"
   ]
  },
  {
   "cell_type": "code",
   "execution_count": null,
   "id": "f4aa5188",
   "metadata": {},
   "outputs": [],
   "source": [
    "def hashcompare(d1, d2, ignore_case=False, ignore_nums_n_dates=False, verbose=False):\n",
    "    '''\n",
    "    Compares directories (d1 and d2) and extracts their hash.  \n",
    "    This function is use in convination with `compareDFs` to determine if two data frames are the same.\n",
    "    '''\n",
    "    h1 = pd.Series(dtype=str)\n",
    "    h2 = pd.Series(dtype=str)\n",
    "    h1_names = pd.Series(dtype=str)\n",
    "    h2_names = pd.Series(dtype=str)\n",
    "    # get d1 hashes\n",
    "    for f in os.listdir(d1):\n",
    "        fpath = os.path.join(d1, f)\n",
    "        if os.path.isfile(fpath):\n",
    "            fname = f\n",
    "            if ignore_case:\n",
    "                fname = f.lower()\n",
    "            if ignore_nums_n_dates:\n",
    "                fname = re.sub('\\d(\\d/-)*', '*', f)           \n",
    "            h1[fname] = hashlib.sha1(open(fpath, 'rb').read()).hexdigest()\n",
    "            h1_names[fname] = f  # keep track of original filename\n",
    "    # get d2 hashes\n",
    "    for f in os.listdir(d2):\n",
    "        fpath = os.path.join(d2, f)\n",
    "        if os.path.isfile(fpath):\n",
    "            fname = f\n",
    "            if ignore_case:\n",
    "                fname = f.lower()\n",
    "            if ignore_nums_n_dates:\n",
    "                fname = re.sub('\\d(\\d/-)*', '*', f)\n",
    "            h2[fname] = hashlib.sha1(open(fpath, 'rb').read()).hexdigest()\n",
    "            h2_names[fname] = f  # keep track of original filename\n",
    "    # create comparison dataframe\n",
    "    if verbose:\n",
    "        print(h1, end='\\n')\n",
    "        print(h2)\n",
    "    df = pd.DataFrame({d1: h1, d2: h2, 'filename1': h1_names, 'filename2': h2_names})\n",
    "    df['Equal'] = df[d1] == df[d2]\n",
    "    eq = df.pop('Equal')\n",
    "    df.insert(0, 'Equal', eq)\n",
    "    return df"
   ]
  },
  {
   "cell_type": "code",
   "execution_count": null,
   "id": "13da0c24",
   "metadata": {},
   "outputs": [],
   "source": [
    "def compareDFs(compare_df):\n",
    "    '''\n",
    "    Uses the input of `hashcompare` as a way to compare the outputs of two different runs. \n",
    "    It uses the `pd.testing.assert_frame_equal` to test if two data frames are equal or not.\n",
    "    In case that they are different it will display the reason why.\n",
    "    '''\n",
    "    dirpath1, dirpath2, fname1, fname2 = compare_df.columns[1:]\n",
    "    res_s = pd.Series(dtype=str)\n",
    "    for f in compare_df.index:\n",
    "        # build dataframes\n",
    "        if f[-3:] == 'csv':\n",
    "            p1 = os.path.join(dirpath1, compare_df.loc[f, fname1])\n",
    "            p2 = os.path.join(dirpath2, compare_df.loc[f, fname2])\n",
    "            df1 = pd.read_csv(p1)\n",
    "            df2 = pd.read_csv(p2)\n",
    "        if f[-4:] == 'xlsx':\n",
    "            p1 = os.path.join(dirpath1, compare_df.loc[f, fname1])\n",
    "            p2 = os.path.join(dirpath2, compare_df.loc[f, fname2])\n",
    "            df1 = pd.read_excel(p1)\n",
    "            df2 = pd.read_excel(p2)\n",
    "        try:\n",
    "            res = pd.testing.assert_frame_equal(df1, df2)\n",
    "            print('-'*80+'\\n'+f'Frames equal for: {f}', end='\\n'+'-'*80 + '\\n')\n",
    "        except AssertionError as e:\n",
    "            print('-'*80+'\\n'+f'Frames NOT equal for: {f}')\n",
    "            print(e, end='\\n'+'-'*80 + '\\n')\n",
    "            err = f'{e}'\n",
    "            r0 = err.find('column name=')\n",
    "            if r0>0:\n",
    "                r1 = err[(13+r0):].find('\\\"')\n",
    "                var = err[(13+r0):(13+r0+r1)]\n",
    "                try:\n",
    "                    tf = np.isclose(df1[var], df2[var],equal_nan=True)\n",
    "                    print(df1[~tf][var])\n",
    "                    print(df2[~tf][var])\n",
    "                except TypeError:\n",
    "                    print('SET DIFF:', set(df1[var])-set(df2[var]))\n"
   ]
  },
  {
   "cell_type": "markdown",
   "id": "cbd22568",
   "metadata": {},
   "source": [
    "### Parameters Check"
   ]
  },
  {
   "cell_type": "code",
   "execution_count": null,
   "id": "29370c92",
   "metadata": {},
   "outputs": [],
   "source": [
    "orig_param_file = os.path.join(orig_code_dir, 'CPMO_parameters.py')\n",
    "compare_param_file = os.path.join(compare_code_dir, 'CPMO_parameters.py')\n",
    "\n",
    "# if dirs are cloud storage, download to compare files\n",
    "if orig_param_file[:5] == 'gs://':\n",
    "    tstamp = dt.datetime.now().strftime(\"%Y-%m-%d_%s%f\")\n",
    "    orig_f = f'TEMP_ORIG_params_{tstamp}.py'\n",
    "    !gsutil cp {orig_param_file} {orig_f}\n",
    "else:\n",
    "    orig_f = orig_param_file\n",
    "if compare_param_file[:5] == 'gs://':\n",
    "    comp_f = f'TEMP_COMP_params_{tstamp}.py'\n",
    "    !gsutil cp {compare_param_file} {comp_f}\n",
    "else:\n",
    "    comp_f = compare_param_file"
   ]
  },
  {
   "cell_type": "code",
   "execution_count": null,
   "id": "f032a35c",
   "metadata": {},
   "outputs": [],
   "source": [
    "!diff --minimal --minimal --ignore-trailing-space --ignore-space-change --suppress-common-lines --color='always' \\\n",
    "    {orig_f} {comp_f}"
   ]
  },
  {
   "cell_type": "code",
   "execution_count": null,
   "id": "6960c72a",
   "metadata": {},
   "outputs": [],
   "source": [
    "# Cleanup\n",
    "if orig_param_file[:5] == 'gs://':\n",
    "    os.remove(orig_f)\n",
    "if compare_param_file[:5] == 'gs://':\n",
    "    os.remove(comp_f)"
   ]
  },
  {
   "cell_type": "markdown",
   "id": "08d580f2",
   "metadata": {},
   "source": [
    "### Inputs Check"
   ]
  },
  {
   "cell_type": "code",
   "execution_count": null,
   "id": "44deb9a3",
   "metadata": {},
   "outputs": [],
   "source": [
    "# if dirs are cloud storage, download to compare files\n",
    "if orig_input_dir[:5] == 'gs://':\n",
    "    tstamp = dt.datetime.now().strftime(\"%Y-%m-%d_%s%f\")\n",
    "    orig_d = f'TEMP_ORIG_{tstamp}'\n",
    "    os.makedirs(orig_d)\n",
    "    !gsutil -m cp -r {orig_input_dir}/* {orig_d}\n",
    "else:\n",
    "    orig_d = orig_input_dir\n",
    "if compare_input_dir[:5] == 'gs://':\n",
    "    comp_d = f'TEMP_COMP_{tstamp}'\n",
    "    os.makedirs(comp_d)\n",
    "    !gsutil -m cp -r {compare_input_dir}/* {comp_d}\n",
    "else:\n",
    "    comp_d = comp_input_dir"
   ]
  },
  {
   "cell_type": "markdown",
   "id": "5ea0d154",
   "metadata": {},
   "source": [
    "Which input files differ? The `hashcompare` function returns `True` if the hashes are the same, and `False` if they are different."
   ]
  },
  {
   "cell_type": "code",
   "execution_count": null,
   "id": "52c76786",
   "metadata": {},
   "outputs": [],
   "source": [
    "inputs_df = hashcompare(orig_d, comp_d)\n",
    "inputs_df['Equal']"
   ]
  },
  {
   "cell_type": "code",
   "execution_count": null,
   "id": "10aec2f0",
   "metadata": {},
   "outputs": [],
   "source": [
    "if ~inputs_df.Equal.all():  # if file hashes are different for some files\n",
    "    compareDFs(inputs_df)"
   ]
  },
  {
   "cell_type": "code",
   "execution_count": null,
   "id": "52d18922",
   "metadata": {},
   "outputs": [],
   "source": [
    "# cleanup\n",
    "if 'orig_temp' in locals().keys():\n",
    "    shutil.rmtree(orig_d)\n",
    "if 'compare_temp' in locals().keys():\n",
    "    shutil.rmtree(compare_d)    "
   ]
  },
  {
   "cell_type": "markdown",
   "id": "09554246",
   "metadata": {},
   "source": [
    "### Outputs Check"
   ]
  },
  {
   "cell_type": "markdown",
   "id": "8da38e60",
   "metadata": {},
   "source": [
    "#### Pre_Processing.py Outputs Check"
   ]
  },
  {
   "cell_type": "code",
   "execution_count": null,
   "id": "c6caedb9",
   "metadata": {},
   "outputs": [],
   "source": [
    "orig_pp_dir = os.path.join(orig_output_dir, 'Dynamic_Input')\n",
    "compare_pp_dir = os.path.join(compare_output_dir, 'Dynamic_Input')\n",
    "\n",
    "if orig_pp_dir[:5] == 'gs://':\n",
    "    tstamp = dt.datetime.now().strftime(\"%Y-%m-%d_%s%f\")\n",
    "    orig_pp_d = f'TEMP_ORIG_PREP_{tstamp}'\n",
    "    os.makedirs(orig_pp_d)\n",
    "    !gsutil -m cp -r {orig_pp_dir}/* {orig_pp_d}\n",
    "else:\n",
    "    orig_pp_d = orig_pp_dir\n",
    "if compare_pp_dir[:5] == 'gs://':\n",
    "    comp_pp_d = f'TEMP_COMP_PREP_{tstamp}'\n",
    "    os.makedirs(comp_pp_d)\n",
    "    ! gsutil -m cp -r {compare_pp_dir}/* {comp_pp_d}\n",
    "else:\n",
    "    comp_pp_d = compare_pp_dir"
   ]
  },
  {
   "cell_type": "markdown",
   "id": "b738a0b2",
   "metadata": {},
   "source": [
    "Compare File Hashes"
   ]
  },
  {
   "cell_type": "code",
   "execution_count": null,
   "id": "be9a16c8",
   "metadata": {},
   "outputs": [],
   "source": [
    "pp_df = hashcompare(orig_pp_d, comp_pp_d, ignore_case=True, ignore_nums_n_dates=False)\n",
    "# pp_df.dropna()['Equal']\n",
    "pp_df.dropna()"
   ]
  },
  {
   "cell_type": "markdown",
   "id": "0b105888",
   "metadata": {},
   "source": [
    "Compare Dataframes"
   ]
  },
  {
   "cell_type": "code",
   "execution_count": null,
   "id": "a3537f4a",
   "metadata": {},
   "outputs": [],
   "source": [
    "compareDFs(pp_df.dropna())"
   ]
  },
  {
   "cell_type": "code",
   "execution_count": null,
   "id": "d68fbba6",
   "metadata": {},
   "outputs": [],
   "source": [
    "# cleanup\n",
    "if 'orig_pp_d' in locals().keys():\n",
    "    shutil.rmtree(orig_pp_d)\n",
    "if 'compare_pp_d' in locals().keys():\n",
    "    shutil.rmtree(compare_pp_d)    "
   ]
  },
  {
   "cell_type": "markdown",
   "id": "381d1a61",
   "metadata": {},
   "source": [
    "#### Daily_Input_Read.py Outputs Check"
   ]
  },
  {
   "cell_type": "code",
   "execution_count": null,
   "id": "c30808ec",
   "metadata": {},
   "outputs": [],
   "source": [
    "orig_daily_dir = os.path.join(orig_output_dir, 'Dynamic_Input')\n",
    "compare_daily_dir = os.path.join(compare_output_dir, 'Dynamic_Input')\n",
    "\n",
    "if orig_daily_dir[:5] == 'gs://':\n",
    "    tstamp = dt.datetime.now().strftime(\"%Y-%m-%d_%s%f\")\n",
    "    orig_daily_d = f'TEMP_ORIG_PREP_{tstamp}'\n",
    "    os.makedirs(orig_daily_d)\n",
    "    !gsutil -m cp -r {orig_daily_dir}/* {orig_daily_d}\n",
    "else:\n",
    "    orig_daily_d = orig_daily_dir\n",
    "if compare_daily_dir[:5] == 'gs://':\n",
    "    comp_daily_d = f'TEMP_COMP_PREP_{tstamp}'\n",
    "    os.makedirs(comp_daily_d)\n",
    "    ! gsutil -m cp -r {compare_daily_dir}/* {comp_daily_d}\n",
    "else:\n",
    "    comp_daily_d = compare_daily_dir"
   ]
  },
  {
   "cell_type": "markdown",
   "id": "d234d90d",
   "metadata": {},
   "source": [
    "Compare File Hashes"
   ]
  },
  {
   "cell_type": "code",
   "execution_count": null,
   "id": "b7329970",
   "metadata": {},
   "outputs": [],
   "source": [
    "daily_df = hashcompare(orig_daily_d, comp_daily_d, ignore_case=True, ignore_nums_n_dates=False)\n",
    "# daily_df.dropna()['Equal']\n",
    "daily_df.dropna()"
   ]
  },
  {
   "cell_type": "markdown",
   "id": "88517a3b",
   "metadata": {},
   "source": [
    "Compare Dataframes"
   ]
  },
  {
   "cell_type": "code",
   "execution_count": null,
   "id": "c58c2c50",
   "metadata": {},
   "outputs": [],
   "source": [
    "compareDFs(daily_df.dropna())"
   ]
  },
  {
   "cell_type": "code",
   "execution_count": null,
   "id": "35fe23d4",
   "metadata": {},
   "outputs": [],
   "source": [
    "# cleanup\n",
    "if 'orig_daily_d' in locals().keys():\n",
    "    shutil.rmtree(orig_daily_d)\n",
    "if 'comp_daily_d' in locals().keys():\n",
    "    shutil.rmtree(comp_daily_d)    "
   ]
  },
  {
   "cell_type": "markdown",
   "id": "58ffa719",
   "metadata": {},
   "source": [
    "#### CleintPharmacyMacOptimization.py  Output Check"
   ]
  },
  {
   "cell_type": "code",
   "execution_count": null,
   "id": "038cfb2f",
   "metadata": {},
   "outputs": [],
   "source": [
    "orig_out_d = os.path.join(orig_output_dir, 'Output')\n",
    "comp_out_d = os.path.join(compare_output_dir, 'Output')\n",
    "\n",
    "if orig_out_d[:5] == 'gs://':\n",
    "    tstamp = dt.datetime.now().strftime(\"%Y-%m-%d_%s%f\")\n",
    "    orig_opt_d = f'TEMP_ORIG_OPT_{tstamp}'\n",
    "    os.makedirs(orig_opt_d)\n",
    "    !gsutil -m cp -r {orig_out_d}/* {orig_opt_d}\n",
    "else:\n",
    "    orig_opt_d = orig_out_d\n",
    "if comp_out_d[:5] == 'gs://':\n",
    "    comp_opt_d = f'TEMP_COMP_OPT_{tstamp}'\n",
    "    os.makedirs(comp_opt_d)\n",
    "    ! gsutil -m cp -r {comp_out_d}/* {comp_opt_d}\n",
    "else:\n",
    "    comp_opt_d = comp_out_d"
   ]
  },
  {
   "cell_type": "markdown",
   "id": "b5861a70",
   "metadata": {},
   "source": [
    "Compare File Hashes"
   ]
  },
  {
   "cell_type": "code",
   "execution_count": null,
   "id": "bedda961",
   "metadata": {},
   "outputs": [],
   "source": [
    "opt_df = hashcompare(orig_opt_d, comp_opt_d, ignore_case=True, ignore_nums_n_dates=False)\n",
    "opt_df"
   ]
  },
  {
   "cell_type": "markdown",
   "id": "a8c17f95",
   "metadata": {},
   "source": [
    "Compare Dataframes"
   ]
  },
  {
   "cell_type": "code",
   "execution_count": null,
   "id": "61d5cd78",
   "metadata": {},
   "outputs": [],
   "source": [
    "compareDFs(opt_df.dropna())"
   ]
  },
  {
   "cell_type": "code",
   "execution_count": null,
   "id": "70efe884",
   "metadata": {},
   "outputs": [],
   "source": [
    "# cleanup\n",
    "if 'orig_opt_d' in locals().keys():\n",
    "    shutil.rmtree(orig_opt_d)\n",
    "if 'comp_opt_d' in locals().keys():\n",
    "    shutil.rmtree(comp_opt_d)    "
   ]
  },
  {
   "cell_type": "code",
   "execution_count": null,
   "id": "7d7f4ae8",
   "metadata": {},
   "outputs": [],
   "source": []
  }
 ],
 "metadata": {
  "environment": {
   "name": "common-cpu.m68",
   "type": "gcloud",
   "uri": "gcr.io/deeplearning-platform-release/base-cpu:m68"
  },
  "kernelspec": {
   "display_name": "Python 3",
   "language": "python",
   "name": "python3"
  },
  "language_info": {
   "codemirror_mode": {
    "name": "ipython",
    "version": 3
   },
   "file_extension": ".py",
   "mimetype": "text/x-python",
   "name": "python",
   "nbconvert_exporter": "python",
   "pygments_lexer": "ipython3",
   "version": "3.7.10"
  }
 },
 "nbformat": 4,
 "nbformat_minor": 5
}
